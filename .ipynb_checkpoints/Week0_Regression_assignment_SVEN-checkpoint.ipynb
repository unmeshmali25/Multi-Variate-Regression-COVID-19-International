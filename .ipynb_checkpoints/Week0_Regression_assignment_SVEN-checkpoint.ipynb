{
 "cells": [
  {
   "cell_type": "markdown",
   "metadata": {
    "id": "EEmebwjevCxD"
   },
   "source": []
  },
  {
   "cell_type": "markdown",
   "metadata": {
    "id": "w2bxy82Vu4fQ"
   },
   "source": []
  },
  {
   "cell_type": "code",
   "execution_count": 2,
   "metadata": {
    "id": "_GlfTo5zE2ba"
   },
   "outputs": [],
   "source": [
    "import numpy as np\n",
    "import numpy.matlib as matlib\n",
    "# !pip install -U -q PyDrive\n",
    "# from pydrive.auth import GoogleAuth\n",
    "# from pydrive.drive import GoogleDrive\n",
    "# from google.colab import auth\n",
    "# from oauth2client.client import GoogleCredentials\n"
   ]
  },
  {
   "cell_type": "code",
   "execution_count": 3,
   "metadata": {
    "id": "HT1yuyN5zJ19"
   },
   "outputs": [
    {
     "ename": "NameError",
     "evalue": "name 'auth' is not defined",
     "output_type": "error",
     "traceback": [
      "\u001b[0;31m---------------------------------------------------------------------------\u001b[0m",
      "\u001b[0;31mNameError\u001b[0m                                 Traceback (most recent call last)",
      "\u001b[0;32m<ipython-input-3-3254a9bed9fd>\u001b[0m in \u001b[0;36m<module>\u001b[0;34m\u001b[0m\n\u001b[0;32m----> 1\u001b[0;31m \u001b[0mauth\u001b[0m\u001b[0;34m.\u001b[0m\u001b[0mauthenticate_user\u001b[0m\u001b[0;34m(\u001b[0m\u001b[0;34m)\u001b[0m\u001b[0;34m\u001b[0m\u001b[0;34m\u001b[0m\u001b[0m\n\u001b[0m\u001b[1;32m      2\u001b[0m \u001b[0mgauth\u001b[0m \u001b[0;34m=\u001b[0m \u001b[0mGoogleAuth\u001b[0m\u001b[0;34m(\u001b[0m\u001b[0;34m)\u001b[0m\u001b[0;34m\u001b[0m\u001b[0;34m\u001b[0m\u001b[0m\n\u001b[1;32m      3\u001b[0m \u001b[0mgauth\u001b[0m\u001b[0;34m.\u001b[0m\u001b[0mcredentials\u001b[0m \u001b[0;34m=\u001b[0m \u001b[0mGoogleCredentials\u001b[0m\u001b[0;34m.\u001b[0m\u001b[0mget_application_default\u001b[0m\u001b[0;34m(\u001b[0m\u001b[0;34m)\u001b[0m\u001b[0;34m\u001b[0m\u001b[0;34m\u001b[0m\u001b[0m\n\u001b[1;32m      4\u001b[0m \u001b[0mdrive\u001b[0m \u001b[0;34m=\u001b[0m \u001b[0mGoogleDrive\u001b[0m\u001b[0;34m(\u001b[0m\u001b[0mgauth\u001b[0m\u001b[0;34m)\u001b[0m\u001b[0;34m\u001b[0m\u001b[0;34m\u001b[0m\u001b[0m\n",
      "\u001b[0;31mNameError\u001b[0m: name 'auth' is not defined"
     ]
    }
   ],
   "source": [
    "# auth.authenticate_user()\n",
    "# gauth = GoogleAuth()\n",
    "# gauth.credentials = GoogleCredentials.get_application_default()\n",
    "# drive = GoogleDrive(gauth)\n"
   ]
  },
  {
   "cell_type": "markdown",
   "metadata": {
    "id": "q6AR4c7ivMtD"
   },
   "source": [
    "Replace the ID with ID of file you want to access. To get this ID: \n",
    "\n",
    "1.   Right-click on the name of the appropriate file in your Google Drive\n",
    "2.   Click \"Get link\"\n",
    "3.   Copy the characters between `d/` and the following slash\n",
    "4.   Paste them into the dictionary argument of the call to `drive.CreateFile()` as the value associated with the 'id' key. Make sure that this value is a string.\n",
    "\n"
   ]
  },
  {
   "cell_type": "code",
   "execution_count": null,
   "metadata": {
    "id": "mb5xkL1QzPYg"
   },
   "outputs": [],
   "source": [
    "# # Replace the ID with ID of file you want to access\n",
    "# # To get this ID, right-click on the name of the appropriate file in your \n",
    "downloaded = drive.CreateFile({'id':'1uhaemiBL_mWEHTilB1tWmE8G9gD5IJgp'}) \n",
    "downloaded.GetContentFile('time_series_covid_19_confirmed.csv') "
   ]
  },
  {
   "cell_type": "markdown",
   "metadata": {
    "id": "cj14ep-Dvc7x"
   },
   "source": [
    "Step 2: Read the Data and verify its format!"
   ]
  },
  {
   "cell_type": "code",
   "execution_count": null,
   "metadata": {
    "colab": {
     "base_uri": "https://localhost:8080/",
     "height": 270
    },
    "id": "swBygPdz0iJt",
    "outputId": "6d09b4b0-763e-4518-f25a-4f5062192248"
   },
   "outputs": [],
   "source": [
    "import pandas as pd\n",
    "data = pd.read_csv('time_series_covid_19_confirmed.csv') \n",
    "print(\"The shape of data=\",data.shape)\n",
    "data.head()"
   ]
  },
  {
   "cell_type": "markdown",
   "metadata": {
    "id": "lywaW2dmvk9U"
   },
   "source": [
    "Step 3: Original data has [266x225] dimensions. Let's use only 50 rows and 100 columns."
   ]
  },
  {
   "cell_type": "code",
   "execution_count": null,
   "metadata": {
    "colab": {
     "base_uri": "https://localhost:8080/",
     "height": 34
    },
    "id": "j6InABui0o_f",
    "outputId": "7868f37a-2f0c-495e-d553-b41daae2c0a0"
   },
   "outputs": [],
   "source": [
    "rows=50\n",
    "cols=100\n",
    "data_new=data.iloc[0:rows,4:cols+4]\n",
    "print(data_new.shape)"
   ]
  },
  {
   "cell_type": "code",
   "execution_count": null,
   "metadata": {
    "colab": {
     "base_uri": "https://localhost:8080/",
     "height": 253
    },
    "id": "geWNGS0621yD",
    "outputId": "dba62917-be7a-4875-b2a7-a87ffffac1c3"
   },
   "outputs": [],
   "source": [
    "#view the sub-sectioned data\n",
    "data_new.head()"
   ]
  },
  {
   "cell_type": "markdown",
   "metadata": {
    "id": "FQ-1sTeDwSQU"
   },
   "source": [
    "Step 4: Convert the Tablular data to format {X,Y}, where X={Longitude, Latitude, Date}, Y={#infected}"
   ]
  },
  {
   "cell_type": "code",
   "execution_count": null,
   "metadata": {
    "colab": {
     "base_uri": "https://localhost:8080/",
     "height": 34
    },
    "id": "mCrT8bWN6E7U",
    "outputId": "a1411c43-747c-4e37-8f40-98f8163ac97e"
   },
   "outputs": [],
   "source": [
    "# Finding the date indices\n",
    "import matplotlib.pyplot as plt\n",
    "data_row=data_new.sum(axis=0)\n",
    "days=range(0,data_row.shape[0])\n",
    "days_mat=matlib.repmat(np.array(days),data_new.shape[0],1)\n",
    "print(days_mat.shape)"
   ]
  },
  {
   "cell_type": "code",
   "execution_count": null,
   "metadata": {
    "id": "SH4bb0kzO9BR"
   },
   "outputs": [],
   "source": [
    "# Let's create data X-{X1,X2,X3}, where X1=lat, X2=long, X3=date, Y=#affected\n",
    "X=np.zeros((days_mat.shape[0]*days_mat.shape[1],3))\n",
    "Y=np.zeros((days_mat.shape[0]*days_mat.shape[1],1))\n",
    "lat_long=np.array(data.iloc[:,2:4])\n",
    "data_new=np.array(data_new)\n",
    "for r in range(days_mat.shape[0]): #all locations\n",
    "  X[r*days_mat.shape[1]:r*days_mat.shape[1]+days_mat.shape[1],0]=lat_long[r,0]*np.ones((days_mat.shape[1],)) #setting Latitude\n",
    "  X[r*days_mat.shape[1]:r*days_mat.shape[1]+days_mat.shape[1],1]=lat_long[r,1]*np.ones((days_mat.shape[1],)) #setting Longitude\n",
    "  X[r*days_mat.shape[1]:r*days_mat.shape[1]+days_mat.shape[1],2]=np.reshape(days,(days_mat.shape[1],)) #setting the date\n",
    "  Y[r*days_mat.shape[1]:r*days_mat.shape[1]+days_mat.shape[1]]=np.reshape(data_new[r,:],((days_mat.shape[1],1)))"
   ]
  },
  {
   "cell_type": "code",
   "execution_count": 4,
   "metadata": {
    "colab": {
     "base_uri": "https://localhost:8080/",
     "height": 34
    },
    "id": "15rtRjgdoVwA",
    "outputId": "8476f8ca-7ba4-4f4d-bb2b-55c2421149ad"
   },
   "outputs": [
    {
     "ename": "NameError",
     "evalue": "name 'X' is not defined",
     "output_type": "error",
     "traceback": [
      "\u001b[0;31m---------------------------------------------------------------------------\u001b[0m",
      "\u001b[0;31mNameError\u001b[0m                                 Traceback (most recent call last)",
      "\u001b[0;32m<ipython-input-4-5332929fd1ad>\u001b[0m in \u001b[0;36m<module>\u001b[0;34m\u001b[0m\n\u001b[0;32m----> 1\u001b[0;31m \u001b[0mprint\u001b[0m\u001b[0;34m(\u001b[0m\u001b[0mnp\u001b[0m\u001b[0;34m.\u001b[0m\u001b[0mshape\u001b[0m\u001b[0;34m(\u001b[0m\u001b[0mX\u001b[0m\u001b[0;34m)\u001b[0m\u001b[0;34m)\u001b[0m\u001b[0;34m\u001b[0m\u001b[0;34m\u001b[0m\u001b[0m\n\u001b[0m\u001b[1;32m      2\u001b[0m \u001b[0;31m#Data Preparation is Done!\u001b[0m\u001b[0;34m\u001b[0m\u001b[0;34m\u001b[0m\u001b[0;34m\u001b[0m\u001b[0m\n",
      "\u001b[0;31mNameError\u001b[0m: name 'X' is not defined"
     ]
    }
   ],
   "source": [
    "print(np.shape(X))\n",
    "#Data Preparation is Done!"
   ]
  },
  {
   "cell_type": "markdown",
   "metadata": {
    "id": "CJ0LTlMlwwAy"
   },
   "source": [
    "Step 5: Let's Plot the Data to see the converted Data format!"
   ]
  },
  {
   "cell_type": "code",
   "execution_count": null,
   "metadata": {
    "colab": {
     "base_uri": "https://localhost:8080/",
     "height": 1000
    },
    "id": "O0tXzJAS8Tia",
    "outputId": "093efbb5-d9f5-4b60-a742-0fe9e7b8a39a"
   },
   "outputs": [],
   "source": [
    "plt.figure(figsize=(20, 20), dpi=80)\n",
    "plt.scatter(X[:,2],Y[:])\n",
    "plt.xlabel('Days elapsed since Jan 22')\n",
    "plt.ylabel('Number Infected')\n",
    "print(np.shape(X))"
   ]
  },
  {
   "cell_type": "markdown",
   "metadata": {
    "id": "Z05NRyUgxEJh"
   },
   "source": [
    "Step 6: Let's spilt the data to training and test (70% train, 30% test)"
   ]
  },
  {
   "cell_type": "code",
   "execution_count": null,
   "metadata": {
    "id": "yurSMGAUrfRj"
   },
   "outputs": [],
   "source": [
    "# Goal 1: Fit regression model for (days vs infections)\n",
    "from sklearn.model_selection import train_test_split\n",
    "# Split data into train and test\n",
    "X_train_1, X_test_1, y_train, y_test = train_test_split(X, Y, test_size=0.3, random_state=10)"
   ]
  },
  {
   "cell_type": "markdown",
   "metadata": {
    "id": "zXfkFuSXxNHD"
   },
   "source": [
    "Step 7: Let's fit Polynomial features of degree 3 to the features. This results in dimensions going from 3 to 20!"
   ]
  },
  {
   "cell_type": "code",
   "execution_count": null,
   "metadata": {
    "colab": {
     "base_uri": "https://localhost:8080/",
     "height": 136
    },
    "id": "JPn3O0KME-Md",
    "outputId": "9d8d220e-b990-4953-c7a9-60a20dd71aaa"
   },
   "outputs": [],
   "source": [
    "from sklearn.preprocessing import PolynomialFeatures\n",
    "from sklearn.linear_model import LinearRegression\n",
    "\n",
    "poly = PolynomialFeatures(degree=3)\n",
    "# Transform both the train and test data\n",
    "X_train = poly.fit_transform(X_train_1)\n",
    "X_test = poly.fit_transform(X_test_1)\n",
    "print(\"New shape of test data=\",np.shape(X_test))\n",
    "\n",
    "clf = LinearRegression()\n",
    "# Fit the model on train data only\n",
    "clf.fit(X_train, y_train)\n",
    "print(\"Linear Regression Coefficients are=\",clf.coef_)\n",
    "print(\"constant coefficient=\",clf.intercept_)"
   ]
  },
  {
   "cell_type": "code",
   "execution_count": null,
   "metadata": {
    "colab": {
     "base_uri": "https://localhost:8080/",
     "height": 1000
    },
    "id": "U1IEL9X1Fd26",
    "outputId": "9a5b68e9-edb8-4fd6-b9f9-8de0c1857f43"
   },
   "outputs": [],
   "source": [
    "# Predict regression outcome on test data\n",
    "y_pred = clf.predict(X_test)\n",
    "# next plot predictions\n",
    "plt.figure(figsize=(20, 20), dpi=80)\n",
    "plt.scatter(X[:,2], Y[:,0],  color='black')\n",
    "plt.scatter(X_test_1[:,2], y_pred, color='blue', linewidth=1)\n",
    "plt.xticks(())\n",
    "plt.yticks(())\n",
    "\n",
    "plt.show()"
   ]
  },
  {
   "cell_type": "markdown",
   "metadata": {
    "id": "y3Zc8iLN066t"
   },
   "source": [
    "In the image above, black points are training and blue ones are test!"
   ]
  },
  {
   "cell_type": "code",
   "execution_count": null,
   "metadata": {
    "colab": {
     "base_uri": "https://localhost:8080/",
     "height": 34
    },
    "id": "WxSAi3nW1O4q",
    "outputId": "af1a0329-b754-49cb-d9c6-354ca0318561"
   },
   "outputs": [],
   "source": [
    "from sklearn.metrics import mean_squared_error as mse\n",
    "print(mse(y_test, y_pred))"
   ]
  },
  {
   "cell_type": "code",
   "execution_count": null,
   "metadata": {
    "colab": {
     "base_uri": "https://localhost:8080/",
     "height": 1000
    },
    "id": "PzHL1BWGB5sX",
    "outputId": "883fb65f-3b34-4d47-a36d-bc6faeb764fc"
   },
   "outputs": [],
   "source": [
    "# 1D polynomial regression\n",
    "model = np.poly1d(np.polyfit(np.transpose(X_train_1[:,2]), np.transpose(y_train[:,0]), 3))\n",
    "\n",
    "model_x = np.linspace(0, 100, 100)\n",
    "plt.figure(figsize=(20, 20), dpi=80)\n",
    "plt.scatter(X[:,2],Y[:])\n",
    "plt.plot(model_x, model(model_x),'r')\n",
    "plt.show()"
   ]
  },
  {
   "cell_type": "code",
   "execution_count": null,
   "metadata": {
    "id": "SxA-sP83ulc5"
   },
   "outputs": [],
   "source": [
    "#Assignment: Report the mean squared error for prediction using differnt degrers of Polynomial Regression\n",
    "#https://scikit-learn.org/stable/modules/generated/sklearn.metrics.mean_squared_error.html\n",
    "#1. Report the best model for this data\n",
    "\n",
    "#2. Repeat for complete data (Change step 3) and report the best model\n",
    "\n"
   ]
  }
 ],
 "metadata": {
  "colab": {
   "collapsed_sections": [],
   "name": "Week0_Regression_assignment-SVEN.ipynb",
   "provenance": []
  },
  "kernelspec": {
   "display_name": "Python 3",
   "language": "python",
   "name": "python3"
  },
  "language_info": {
   "codemirror_mode": {
    "name": "ipython",
    "version": 3
   },
   "file_extension": ".py",
   "mimetype": "text/x-python",
   "name": "python",
   "nbconvert_exporter": "python",
   "pygments_lexer": "ipython3",
   "version": "3.8.5"
  }
 },
 "nbformat": 4,
 "nbformat_minor": 1
}
